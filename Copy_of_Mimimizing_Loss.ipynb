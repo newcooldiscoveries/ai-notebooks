{
  "nbformat": 4,
  "nbformat_minor": 0,
  "metadata": {
    "colab": {
      "name": "Copy of Mimimizing-Loss.ipynb",
      "provenance": [],
      "include_colab_link": true
    },
    "kernelspec": {
      "display_name": "Python 3",
      "language": "python",
      "name": "python3"
    },
    "language_info": {
      "codemirror_mode": {
        "name": "ipython",
        "version": 3
      },
      "file_extension": ".py",
      "mimetype": "text/x-python",
      "name": "python",
      "nbconvert_exporter": "python",
      "pygments_lexer": "ipython3",
      "version": "3.6.9"
    }
  },
  "cells": [
    {
      "cell_type": "markdown",
      "metadata": {
        "id": "view-in-github",
        "colab_type": "text"
      },
      "source": [
        "<a href=\"https://colab.research.google.com/github/newcooldiscoveries/ai-notebooks/blob/master/Copy_of_Mimimizing_Loss.ipynb\" target=\"_parent\"><img src=\"https://colab.research.google.com/assets/colab-badge.svg\" alt=\"Open In Colab\"/></a>"
      ]
    },
    {
      "cell_type": "code",
      "metadata": {
        "id": "gtmQDB6EjReV"
      },
      "source": [
        "# First import the functions we will need\n",
        "from __future__ import absolute_import, division, print_function, unicode_literals\n",
        "\n",
        "try:\n",
        "  # %tensorflow_version only exists in Colab.\n",
        "  %tensorflow_version 2.x\n",
        "except Exception:\n",
        "  pass\n",
        "import tensorflow as tf\n",
        "import numpy as np\n",
        "import matplotlib.pyplot as plt"
      ],
      "execution_count": null,
      "outputs": []
    },
    {
      "cell_type": "markdown",
      "metadata": {
        "id": "9O5-58WYokl3"
      },
      "source": [
        "# GradientTape\n",
        "\n",
        "The Calculus is managed by a TensorFlow Gradient Tape. You can learn more about the gradient tape at https://www.tensorflow.org/api_docs/python/tf/GradientTape, and we will discuss it later in the course."
      ]
    },
    {
      "cell_type": "code",
      "metadata": {
        "id": "JdhgbGE2j02L"
      },
      "source": [
        "# Define our initial guess\n",
        "INITIAL_W = 2.0\n",
        "INITIAL_B = -1.0\n",
        "\n",
        "# Define our loss function\n",
        "def loss(predicted_y, target_y):\n",
        "  return tf.reduce_mean(tf.square(predicted_y - target_y))\n",
        "\n",
        "# Define our training procedure\n",
        "def train(model, inputs, outputs, learning_rate):\n",
        "  with tf.GradientTape() as t:\n",
        "    current_loss = loss(model(inputs), outputs)\n",
        "    # Here is where you differentiate the model values with respect to the loss function\n",
        "    dw, db = t.gradient(current_loss, [model.w, model.b])\n",
        "    # And here is where you update the model values based on the learning rate chosen\n",
        "    model.w.assign_sub(learning_rate * dw)\n",
        "    model.b.assign_sub(learning_rate * db)\n",
        "    return current_loss\n",
        "\n",
        "# Define our simple linear regression model\n",
        "class Model(object):\n",
        "  def __init__(self):\n",
        "    # Initialize the weights\n",
        "    self.w = tf.Variable(INITIAL_W)\n",
        "    self.b = tf.Variable(INITIAL_B)\n",
        "\n",
        "  def __call__(self, x):\n",
        "    return self.w * x + self.b"
      ],
      "execution_count": null,
      "outputs": []
    },
    {
      "cell_type": "markdown",
      "metadata": {
        "id": "f5exSO3yF-d2"
      },
      "source": [
        "### Train our model"
      ]
    },
    {
      "cell_type": "code",
      "metadata": {
        "colab": {
          "base_uri": "https://localhost:8080/"
        },
        "id": "8akmDCoAjgak",
        "outputId": "a09898f2-ddac-4dfb-f35c-1c3c2967be99"
      },
      "source": [
        "# Define our input data and learning rate\n",
        "xs = [-1.0, 0.0, 1.0, 2.0, 3.0, 4.0]\n",
        "ys = [-3.0, -1.0, 1.0, 3.0, 5.0, 7.0]\n",
        "LEARNING_RATE=0.15\n",
        "\n",
        "# Instantiate our model\n",
        "model = Model()\n",
        "\n",
        "# Collect the history of w-values and b-values to plot later\n",
        "list_w, list_b = [], []\n",
        "epochs = range(50)\n",
        "losses = []\n",
        "for epoch in epochs:\n",
        "  list_w.append(model.w.numpy())\n",
        "  list_b.append(model.b.numpy())\n",
        "  current_loss = train(model, xs, ys, learning_rate=LEARNING_RATE)\n",
        "  losses.append(current_loss)\n",
        "  print('Epoch %2d: w=%1.2f b=%1.2f, loss=%2.5f' %\n",
        "        (epoch, list_w[-1], list_b[-1], current_loss))"
      ],
      "execution_count": null,
      "outputs": [
        {
          "output_type": "stream",
          "text": [
            "Epoch  0: w=2.00 b=-1.00, loss=0.00000\n",
            "Epoch  1: w=2.00 b=-1.00, loss=0.00000\n",
            "Epoch  2: w=2.00 b=-1.00, loss=0.00000\n",
            "Epoch  3: w=2.00 b=-1.00, loss=0.00000\n",
            "Epoch  4: w=2.00 b=-1.00, loss=0.00000\n",
            "Epoch  5: w=2.00 b=-1.00, loss=0.00000\n",
            "Epoch  6: w=2.00 b=-1.00, loss=0.00000\n",
            "Epoch  7: w=2.00 b=-1.00, loss=0.00000\n",
            "Epoch  8: w=2.00 b=-1.00, loss=0.00000\n",
            "Epoch  9: w=2.00 b=-1.00, loss=0.00000\n",
            "Epoch 10: w=2.00 b=-1.00, loss=0.00000\n",
            "Epoch 11: w=2.00 b=-1.00, loss=0.00000\n",
            "Epoch 12: w=2.00 b=-1.00, loss=0.00000\n",
            "Epoch 13: w=2.00 b=-1.00, loss=0.00000\n",
            "Epoch 14: w=2.00 b=-1.00, loss=0.00000\n",
            "Epoch 15: w=2.00 b=-1.00, loss=0.00000\n",
            "Epoch 16: w=2.00 b=-1.00, loss=0.00000\n",
            "Epoch 17: w=2.00 b=-1.00, loss=0.00000\n",
            "Epoch 18: w=2.00 b=-1.00, loss=0.00000\n",
            "Epoch 19: w=2.00 b=-1.00, loss=0.00000\n",
            "Epoch 20: w=2.00 b=-1.00, loss=0.00000\n",
            "Epoch 21: w=2.00 b=-1.00, loss=0.00000\n",
            "Epoch 22: w=2.00 b=-1.00, loss=0.00000\n",
            "Epoch 23: w=2.00 b=-1.00, loss=0.00000\n",
            "Epoch 24: w=2.00 b=-1.00, loss=0.00000\n",
            "Epoch 25: w=2.00 b=-1.00, loss=0.00000\n",
            "Epoch 26: w=2.00 b=-1.00, loss=0.00000\n",
            "Epoch 27: w=2.00 b=-1.00, loss=0.00000\n",
            "Epoch 28: w=2.00 b=-1.00, loss=0.00000\n",
            "Epoch 29: w=2.00 b=-1.00, loss=0.00000\n",
            "Epoch 30: w=2.00 b=-1.00, loss=0.00000\n",
            "Epoch 31: w=2.00 b=-1.00, loss=0.00000\n",
            "Epoch 32: w=2.00 b=-1.00, loss=0.00000\n",
            "Epoch 33: w=2.00 b=-1.00, loss=0.00000\n",
            "Epoch 34: w=2.00 b=-1.00, loss=0.00000\n",
            "Epoch 35: w=2.00 b=-1.00, loss=0.00000\n",
            "Epoch 36: w=2.00 b=-1.00, loss=0.00000\n",
            "Epoch 37: w=2.00 b=-1.00, loss=0.00000\n",
            "Epoch 38: w=2.00 b=-1.00, loss=0.00000\n",
            "Epoch 39: w=2.00 b=-1.00, loss=0.00000\n",
            "Epoch 40: w=2.00 b=-1.00, loss=0.00000\n",
            "Epoch 41: w=2.00 b=-1.00, loss=0.00000\n",
            "Epoch 42: w=2.00 b=-1.00, loss=0.00000\n",
            "Epoch 43: w=2.00 b=-1.00, loss=0.00000\n",
            "Epoch 44: w=2.00 b=-1.00, loss=0.00000\n",
            "Epoch 45: w=2.00 b=-1.00, loss=0.00000\n",
            "Epoch 46: w=2.00 b=-1.00, loss=0.00000\n",
            "Epoch 47: w=2.00 b=-1.00, loss=0.00000\n",
            "Epoch 48: w=2.00 b=-1.00, loss=0.00000\n",
            "Epoch 49: w=2.00 b=-1.00, loss=0.00000\n"
          ],
          "name": "stdout"
        }
      ]
    },
    {
      "cell_type": "markdown",
      "metadata": {
        "id": "W7Lq39ZBF-d3"
      },
      "source": [
        "### Plot our trained values over time"
      ]
    },
    {
      "cell_type": "code",
      "metadata": {
        "colab": {
          "base_uri": "https://localhost:8080/",
          "height": 265
        },
        "id": "HGgb5grSk8Ax",
        "outputId": "57417f6c-194d-4044-bff7-1073e0954c2c"
      },
      "source": [
        "# Plot the w-values and b-values for each training Epoch against the true values\n",
        "TRUE_w = 2.0\n",
        "TRUE_b = -1.0\n",
        "plt.plot(epochs, list_w, 'r', epochs, list_b, 'b')\n",
        "plt.plot([TRUE_w] * len(epochs), 'r--', [TRUE_b] * len(epochs), 'b--')\n",
        "plt.legend(['w', 'b', 'True w', 'True b'])\n",
        "plt.show()"
      ],
      "execution_count": null,
      "outputs": [
        {
          "output_type": "display_data",
          "data": {
            "image/png": "[encoded data removed]",
            "text/plain": [
              "<Figure size 432x288 with 1 Axes>"
            ]
          },
          "metadata": {
            "tags": [],
            "needs_background": "light"
          }
        }
      ]
    }
  ]
}