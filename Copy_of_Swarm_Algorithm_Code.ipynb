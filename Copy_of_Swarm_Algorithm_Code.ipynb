{
  "nbformat": 4,
  "nbformat_minor": 0,
  "metadata": {
    "colab": {
      "name": "Copy of Swarm_Algorithm_Code.ipynb",
      "private_outputs": true,
      "provenance": [],
      "authorship_tag": "ABX9TyNn95BTJD9i8BME9zMEHHvW",
      "include_colab_link": true
    },
    "kernelspec": {
      "name": "python3",
      "display_name": "Python 3"
    },
    "language_info": {
      "name": "python"
    }
  },
  "cells": [
    {
      "cell_type": "markdown",
      "metadata": {
        "id": "view-in-github",
        "colab_type": "text"
      },
      "source": [
        "<a href=\"https://colab.research.google.com/github/newcooldiscoveries/ai-notebooks/blob/master/Copy_of_Swarm_Algorithm_Code.ipynb\" target=\"_parent\"><img src=\"https://colab.research.google.com/assets/colab-badge.svg\" alt=\"Open In Colab\"/></a>"
      ]
    },
    {
      "cell_type": "code",
      "metadata": {
        "id": "ACVw-r5EvTfi"
      },
      "source": [
        "import matplotlib.pyplot as plt\n",
        "import numpy as np\n",
        "\t\n",
        "# Simulation parameters\n",
        "v0           = 0.5      # velocity\n",
        "eta          = 0.6      # random fluctuation in angle (in radians)\n",
        "L            = 5        # size of box\n",
        "R            = 0.5      # interaction radius\n",
        "dt           = 0.1      # time step\n",
        "Nt           = 200      # number of time steps\n",
        "N            = 300      # number of birds\n",
        "plotRealTime = True\n",
        "\n",
        "# Initialize\n",
        "np.random.seed(30)      # set the random number generator seed\n",
        "\n",
        "# bird positions\n",
        "x = np.random.rand(N,1)*L\n",
        "y = np.random.rand(N,1)*L\n",
        "\n",
        "# bird velocities\n",
        "theta = 2 * np.pi * np.random.rand(N,1)\n",
        "vx = v0 * np.cos(theta)\n",
        "vy = v0 * np.sin(theta)\n",
        "\n",
        "# Prep figure\n",
        "fig = plt.figure(figsize=(6,6), dpi=96)\n",
        "ax = plt.gca()\n",
        "\n",
        "# Simulation Main Loop\n",
        "for i in range(Nt):\n",
        "\n",
        "\t# move\n",
        "\tx += vx*dt\n",
        "\ty += vy*dt\n",
        "\t\n",
        "\t# apply periodic BCs\n",
        "\tx = x % L\n",
        "\ty = y % L\n",
        "\t\n",
        "\t# find mean angle of neighbors within R\n",
        "\tmean_theta = theta\n",
        "\tfor b in range(N):\n",
        "\t\tneighbors = (x-x[b])**2+(y-y[b])**2 < R**2\n",
        "\t\tsx = np.sum(np.cos(theta[neighbors]))\n",
        "\t\tsy = np.sum(np.sin(theta[neighbors]))\n",
        "\t\tmean_theta[b] = np.arctan2(sy, sx)\n",
        "\t\t\n",
        "\t# add random perturbations\n",
        "\ttheta = mean_theta + eta*(np.random.rand(N,1)-0.5)\n",
        "\t\n",
        "\t# update velocities\n",
        "\tvx = v0 * np.cos(theta)\n",
        "\tvy = v0 * np.sin(theta)\n",
        "\t\n",
        "\t# plot in real time\n",
        "\tif plotRealTime or (i == Nt-1):\n",
        "\t\tplt.cla()\n",
        "\t\tplt.quiver(x,y,vx,vy,color='r')\n",
        "\t\tax.set(xlim=(0, L), ylim=(0, L))\n",
        "\t\tax.set_aspect('equal')\t\n",
        "\t\tplt.pause(0.001)\n",
        "\t\t\t\n",
        "# Save figure\n",
        "plt.savefig('activematter.png',dpi=240)\n",
        "plt.show()"
      ],
      "execution_count": null,
      "outputs": []
    }
  ]
}